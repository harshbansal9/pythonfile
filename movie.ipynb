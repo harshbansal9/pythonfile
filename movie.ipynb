{
 "cells": [
  {
   "cell_type": "markdown",
   "id": "dadaa73e",
   "metadata": {
    "papermill": {
     "duration": 0.01873,
     "end_time": "2023-08-24T06:50:41.684954",
     "exception": false,
     "start_time": "2023-08-24T06:50:41.666224",
     "status": "completed"
    },
    "tags": []
   },
   "source": [
    "# MOVIE RATING PREDICTION"
   ]
  },
  {
   "cell_type": "markdown",
   "id": "951e90b5",
   "metadata": {
    "papermill": {
     "duration": 0.017563,
     "end_time": "2023-08-24T06:50:41.720710",
     "exception": false,
     "start_time": "2023-08-24T06:50:41.703147",
     "status": "completed"
    },
    "tags": []
   },
   "source": [
    "## Import Library\n"
   ]
  },
  {
   "cell_type": "code",
   "execution_count": 36,
   "id": "0b310186",
   "metadata": {
    "execution": {
     "iopub.execute_input": "2023-08-24T06:50:41.759950Z",
     "iopub.status.busy": "2023-08-24T06:50:41.759494Z",
     "iopub.status.idle": "2023-08-24T06:50:41.772219Z",
     "shell.execute_reply": "2023-08-24T06:50:41.771159Z"
    },
    "papermill": {
     "duration": 0.035165,
     "end_time": "2023-08-24T06:50:41.775162",
     "exception": false,
     "start_time": "2023-08-24T06:50:41.739997",
     "status": "completed"
    },
    "tags": []
   },
   "outputs": [],
   "source": [
    "import numpy as np\n",
    "import pandas as pd"
   ]
  },
  {
   "cell_type": "markdown",
   "id": "0f0f31e3",
   "metadata": {},
   "source": [
    "## Import Dataset"
   ]
  },
  {
   "cell_type": "code",
   "execution_count": 11,
   "id": "ad8fe119",
   "metadata": {
    "execution": {
     "iopub.execute_input": "2023-08-24T06:50:41.814308Z",
     "iopub.status.busy": "2023-08-24T06:50:41.813811Z",
     "iopub.status.idle": "2023-08-24T06:50:41.950243Z",
     "shell.execute_reply": "2023-08-24T06:50:41.949019Z"
    },
    "papermill": {
     "duration": 0.159569,
     "end_time": "2023-08-24T06:50:41.953591",
     "exception": false,
     "start_time": "2023-08-24T06:50:41.794022",
     "status": "completed"
    },
    "tags": []
   },
   "outputs": [],
   "source": [
    "df = pd.read_csv('m.csv', encoding='ISO-8859-1')"
   ]
  },
  {
   "cell_type": "code",
   "execution_count": 38,
   "id": "d41bb785",
   "metadata": {
    "execution": {
     "iopub.execute_input": "2023-08-24T06:50:42.029402Z",
     "iopub.status.busy": "2023-08-24T06:50:42.028600Z",
     "iopub.status.idle": "2023-08-24T06:50:42.050068Z",
     "shell.execute_reply": "2023-08-24T06:50:42.048784Z"
    },
    "papermill": {
     "duration": 0.043978,
     "end_time": "2023-08-24T06:50:42.052449",
     "exception": false,
     "start_time": "2023-08-24T06:50:42.008471",
     "status": "completed"
    },
    "tags": []
   },
   "outputs": [
    {
     "data": {
      "text/html": [
       "<div>\n",
       "<style scoped>\n",
       "    .dataframe tbody tr th:only-of-type {\n",
       "        vertical-align: middle;\n",
       "    }\n",
       "\n",
       "    .dataframe tbody tr th {\n",
       "        vertical-align: top;\n",
       "    }\n",
       "\n",
       "    .dataframe thead th {\n",
       "        text-align: right;\n",
       "    }\n",
       "</style>\n",
       "<table border=\"1\" class=\"dataframe\">\n",
       "  <thead>\n",
       "    <tr style=\"text-align: right;\">\n",
       "      <th></th>\n",
       "      <th>Rating</th>\n",
       "    </tr>\n",
       "  </thead>\n",
       "  <tbody>\n",
       "    <tr>\n",
       "      <th>count</th>\n",
       "      <td>7919.000000</td>\n",
       "    </tr>\n",
       "    <tr>\n",
       "      <th>mean</th>\n",
       "      <td>5.841621</td>\n",
       "    </tr>\n",
       "    <tr>\n",
       "      <th>std</th>\n",
       "      <td>1.381777</td>\n",
       "    </tr>\n",
       "    <tr>\n",
       "      <th>min</th>\n",
       "      <td>1.100000</td>\n",
       "    </tr>\n",
       "    <tr>\n",
       "      <th>25%</th>\n",
       "      <td>4.900000</td>\n",
       "    </tr>\n",
       "    <tr>\n",
       "      <th>50%</th>\n",
       "      <td>6.000000</td>\n",
       "    </tr>\n",
       "    <tr>\n",
       "      <th>75%</th>\n",
       "      <td>6.800000</td>\n",
       "    </tr>\n",
       "    <tr>\n",
       "      <th>max</th>\n",
       "      <td>10.000000</td>\n",
       "    </tr>\n",
       "  </tbody>\n",
       "</table>\n",
       "</div>"
      ],
      "text/plain": [
       "            Rating\n",
       "count  7919.000000\n",
       "mean      5.841621\n",
       "std       1.381777\n",
       "min       1.100000\n",
       "25%       4.900000\n",
       "50%       6.000000\n",
       "75%       6.800000\n",
       "max      10.000000"
      ]
     },
     "execution_count": 38,
     "metadata": {},
     "output_type": "execute_result"
    }
   ],
   "source": [
    "df.describe()"
   ]
  },
  {
   "cell_type": "code",
   "execution_count": 12,
   "id": "bc94eb72",
   "metadata": {},
   "outputs": [
    {
     "data": {
      "text/html": [
       "<div>\n",
       "<style scoped>\n",
       "    .dataframe tbody tr th:only-of-type {\n",
       "        vertical-align: middle;\n",
       "    }\n",
       "\n",
       "    .dataframe tbody tr th {\n",
       "        vertical-align: top;\n",
       "    }\n",
       "\n",
       "    .dataframe thead th {\n",
       "        text-align: right;\n",
       "    }\n",
       "</style>\n",
       "<table border=\"1\" class=\"dataframe\">\n",
       "  <thead>\n",
       "    <tr style=\"text-align: right;\">\n",
       "      <th></th>\n",
       "      <th>Name</th>\n",
       "      <th>Year</th>\n",
       "      <th>Duration</th>\n",
       "      <th>Genre</th>\n",
       "      <th>Rating</th>\n",
       "      <th>Votes</th>\n",
       "      <th>Director</th>\n",
       "      <th>Actor 1</th>\n",
       "      <th>Actor 2</th>\n",
       "      <th>Actor 3</th>\n",
       "    </tr>\n",
       "  </thead>\n",
       "  <tbody>\n",
       "    <tr>\n",
       "      <th>0</th>\n",
       "      <td></td>\n",
       "      <td>NaN</td>\n",
       "      <td>NaN</td>\n",
       "      <td>Drama</td>\n",
       "      <td>NaN</td>\n",
       "      <td>NaN</td>\n",
       "      <td>J.S. Randhawa</td>\n",
       "      <td>Manmauji</td>\n",
       "      <td>Birbal</td>\n",
       "      <td>Rajendra Bhatia</td>\n",
       "    </tr>\n",
       "    <tr>\n",
       "      <th>1</th>\n",
       "      <td>#Gadhvi (He thought he was Gandhi)</td>\n",
       "      <td>(2019)</td>\n",
       "      <td>109 min</td>\n",
       "      <td>Drama</td>\n",
       "      <td>7.0</td>\n",
       "      <td>8</td>\n",
       "      <td>Gaurav Bakshi</td>\n",
       "      <td>Rasika Dugal</td>\n",
       "      <td>Vivek Ghamande</td>\n",
       "      <td>Arvind Jangid</td>\n",
       "    </tr>\n",
       "    <tr>\n",
       "      <th>2</th>\n",
       "      <td>#Homecoming</td>\n",
       "      <td>(2021)</td>\n",
       "      <td>90 min</td>\n",
       "      <td>Drama, Musical</td>\n",
       "      <td>NaN</td>\n",
       "      <td>NaN</td>\n",
       "      <td>Soumyajit Majumdar</td>\n",
       "      <td>Sayani Gupta</td>\n",
       "      <td>Plabita Borthakur</td>\n",
       "      <td>Roy Angana</td>\n",
       "    </tr>\n",
       "    <tr>\n",
       "      <th>3</th>\n",
       "      <td>#Yaaram</td>\n",
       "      <td>(2019)</td>\n",
       "      <td>110 min</td>\n",
       "      <td>Comedy, Romance</td>\n",
       "      <td>4.4</td>\n",
       "      <td>35</td>\n",
       "      <td>Ovais Khan</td>\n",
       "      <td>Prateik</td>\n",
       "      <td>Ishita Raj</td>\n",
       "      <td>Siddhant Kapoor</td>\n",
       "    </tr>\n",
       "    <tr>\n",
       "      <th>4</th>\n",
       "      <td>...And Once Again</td>\n",
       "      <td>(2010)</td>\n",
       "      <td>105 min</td>\n",
       "      <td>Drama</td>\n",
       "      <td>NaN</td>\n",
       "      <td>NaN</td>\n",
       "      <td>Amol Palekar</td>\n",
       "      <td>Rajat Kapoor</td>\n",
       "      <td>Rituparna Sengupta</td>\n",
       "      <td>Antara Mali</td>\n",
       "    </tr>\n",
       "    <tr>\n",
       "      <th>5</th>\n",
       "      <td>...Aur Pyaar Ho Gaya</td>\n",
       "      <td>(1997)</td>\n",
       "      <td>147 min</td>\n",
       "      <td>Comedy, Drama, Musical</td>\n",
       "      <td>4.7</td>\n",
       "      <td>827</td>\n",
       "      <td>Rahul Rawail</td>\n",
       "      <td>Bobby Deol</td>\n",
       "      <td>Aishwarya Rai Bachchan</td>\n",
       "      <td>Shammi Kapoor</td>\n",
       "    </tr>\n",
       "    <tr>\n",
       "      <th>6</th>\n",
       "      <td>...Yahaan</td>\n",
       "      <td>(2005)</td>\n",
       "      <td>142 min</td>\n",
       "      <td>Drama, Romance, War</td>\n",
       "      <td>7.4</td>\n",
       "      <td>1,086</td>\n",
       "      <td>Shoojit Sircar</td>\n",
       "      <td>Jimmy Sheirgill</td>\n",
       "      <td>Minissha Lamba</td>\n",
       "      <td>Yashpal Sharma</td>\n",
       "    </tr>\n",
       "    <tr>\n",
       "      <th>7</th>\n",
       "      <td>.in for Motion</td>\n",
       "      <td>(2008)</td>\n",
       "      <td>59 min</td>\n",
       "      <td>Documentary</td>\n",
       "      <td>NaN</td>\n",
       "      <td>NaN</td>\n",
       "      <td>Anirban Datta</td>\n",
       "      <td>NaN</td>\n",
       "      <td>NaN</td>\n",
       "      <td>NaN</td>\n",
       "    </tr>\n",
       "    <tr>\n",
       "      <th>8</th>\n",
       "      <td>?: A Question Mark</td>\n",
       "      <td>(2012)</td>\n",
       "      <td>82 min</td>\n",
       "      <td>Horror, Mystery, Thriller</td>\n",
       "      <td>5.6</td>\n",
       "      <td>326</td>\n",
       "      <td>Allyson Patel</td>\n",
       "      <td>Yash Dave</td>\n",
       "      <td>Muntazir Ahmad</td>\n",
       "      <td>Kiran Bhatia</td>\n",
       "    </tr>\n",
       "    <tr>\n",
       "      <th>9</th>\n",
       "      <td>@Andheri</td>\n",
       "      <td>(2014)</td>\n",
       "      <td>116 min</td>\n",
       "      <td>Action, Crime, Thriller</td>\n",
       "      <td>4.0</td>\n",
       "      <td>11</td>\n",
       "      <td>Biju Bhaskar Nair</td>\n",
       "      <td>Augustine</td>\n",
       "      <td>Fathima Babu</td>\n",
       "      <td>Byon</td>\n",
       "    </tr>\n",
       "  </tbody>\n",
       "</table>\n",
       "</div>"
      ],
      "text/plain": [
       "                                 Name    Year Duration  \\\n",
       "0                                         NaN      NaN   \n",
       "1  #Gadhvi (He thought he was Gandhi)  (2019)  109 min   \n",
       "2                         #Homecoming  (2021)   90 min   \n",
       "3                             #Yaaram  (2019)  110 min   \n",
       "4                   ...And Once Again  (2010)  105 min   \n",
       "5                ...Aur Pyaar Ho Gaya  (1997)  147 min   \n",
       "6                           ...Yahaan  (2005)  142 min   \n",
       "7                      .in for Motion  (2008)   59 min   \n",
       "8                  ?: A Question Mark  (2012)   82 min   \n",
       "9                            @Andheri  (2014)  116 min   \n",
       "\n",
       "                       Genre  Rating  Votes            Director  \\\n",
       "0                      Drama     NaN    NaN       J.S. Randhawa   \n",
       "1                      Drama     7.0      8       Gaurav Bakshi   \n",
       "2             Drama, Musical     NaN    NaN  Soumyajit Majumdar   \n",
       "3            Comedy, Romance     4.4     35          Ovais Khan   \n",
       "4                      Drama     NaN    NaN        Amol Palekar   \n",
       "5     Comedy, Drama, Musical     4.7    827        Rahul Rawail   \n",
       "6        Drama, Romance, War     7.4  1,086      Shoojit Sircar   \n",
       "7                Documentary     NaN    NaN       Anirban Datta   \n",
       "8  Horror, Mystery, Thriller     5.6    326       Allyson Patel   \n",
       "9    Action, Crime, Thriller     4.0     11   Biju Bhaskar Nair   \n",
       "\n",
       "           Actor 1                 Actor 2          Actor 3  \n",
       "0         Manmauji                  Birbal  Rajendra Bhatia  \n",
       "1     Rasika Dugal          Vivek Ghamande    Arvind Jangid  \n",
       "2     Sayani Gupta       Plabita Borthakur       Roy Angana  \n",
       "3          Prateik              Ishita Raj  Siddhant Kapoor  \n",
       "4     Rajat Kapoor      Rituparna Sengupta      Antara Mali  \n",
       "5       Bobby Deol  Aishwarya Rai Bachchan    Shammi Kapoor  \n",
       "6  Jimmy Sheirgill          Minissha Lamba   Yashpal Sharma  \n",
       "7              NaN                     NaN              NaN  \n",
       "8        Yash Dave          Muntazir Ahmad     Kiran Bhatia  \n",
       "9        Augustine            Fathima Babu             Byon  "
      ]
     },
     "execution_count": 12,
     "metadata": {},
     "output_type": "execute_result"
    }
   ],
   "source": [
    "df.head(10)"
   ]
  },
  {
   "cell_type": "code",
   "execution_count": 40,
   "id": "757d710a",
   "metadata": {
    "execution": {
     "iopub.execute_input": "2023-08-24T06:50:42.142822Z",
     "iopub.status.busy": "2023-08-24T06:50:42.141653Z",
     "iopub.status.idle": "2023-08-24T06:50:42.195464Z",
     "shell.execute_reply": "2023-08-24T06:50:42.194584Z"
    },
    "papermill": {
     "duration": 0.076869,
     "end_time": "2023-08-24T06:50:42.197843",
     "exception": false,
     "start_time": "2023-08-24T06:50:42.120974",
     "status": "completed"
    },
    "tags": []
   },
   "outputs": [
    {
     "data": {
      "text/plain": [
       "Name           0\n",
       "Year         528\n",
       "Duration    8269\n",
       "Genre       1877\n",
       "Rating      7590\n",
       "Votes       7589\n",
       "Director     525\n",
       "Actor 1     1617\n",
       "Actor 2     2384\n",
       "Actor 3     3144\n",
       "dtype: int64"
      ]
     },
     "execution_count": 40,
     "metadata": {},
     "output_type": "execute_result"
    }
   ],
   "source": [
    "df.isnull().sum()"
   ]
  },
  {
   "cell_type": "code",
   "execution_count": 41,
   "id": "2bb80aec",
   "metadata": {
    "execution": {
     "iopub.execute_input": "2023-08-24T06:50:42.237466Z",
     "iopub.status.busy": "2023-08-24T06:50:42.237009Z",
     "iopub.status.idle": "2023-08-24T06:50:42.243904Z",
     "shell.execute_reply": "2023-08-24T06:50:42.242463Z"
    },
    "papermill": {
     "duration": 0.02977,
     "end_time": "2023-08-24T06:50:42.246552",
     "exception": false,
     "start_time": "2023-08-24T06:50:42.216782",
     "status": "completed"
    },
    "tags": []
   },
   "outputs": [
    {
     "data": {
      "text/plain": [
       "(15509, 10)"
      ]
     },
     "execution_count": 41,
     "metadata": {},
     "output_type": "execute_result"
    }
   ],
   "source": [
    "df.shape"
   ]
  },
  {
   "cell_type": "code",
   "execution_count": 42,
   "id": "b5b25274",
   "metadata": {
    "execution": {
     "iopub.execute_input": "2023-08-24T06:50:42.286840Z",
     "iopub.status.busy": "2023-08-24T06:50:42.286462Z",
     "iopub.status.idle": "2023-08-24T06:50:42.352655Z",
     "shell.execute_reply": "2023-08-24T06:50:42.351740Z"
    },
    "papermill": {
     "duration": 0.089238,
     "end_time": "2023-08-24T06:50:42.355324",
     "exception": false,
     "start_time": "2023-08-24T06:50:42.266086",
     "status": "completed"
    },
    "tags": []
   },
   "outputs": [
    {
     "data": {
      "text/html": [
       "<div>\n",
       "<style scoped>\n",
       "    .dataframe tbody tr th:only-of-type {\n",
       "        vertical-align: middle;\n",
       "    }\n",
       "\n",
       "    .dataframe tbody tr th {\n",
       "        vertical-align: top;\n",
       "    }\n",
       "\n",
       "    .dataframe thead th {\n",
       "        text-align: right;\n",
       "    }\n",
       "</style>\n",
       "<table border=\"1\" class=\"dataframe\">\n",
       "  <thead>\n",
       "    <tr style=\"text-align: right;\">\n",
       "      <th></th>\n",
       "      <th>Name</th>\n",
       "      <th>Year</th>\n",
       "      <th>Duration</th>\n",
       "      <th>Genre</th>\n",
       "      <th>Rating</th>\n",
       "      <th>Votes</th>\n",
       "      <th>Director</th>\n",
       "      <th>Actor 1</th>\n",
       "      <th>Actor 2</th>\n",
       "      <th>Actor 3</th>\n",
       "    </tr>\n",
       "  </thead>\n",
       "  <tbody>\n",
       "    <tr>\n",
       "      <th>1</th>\n",
       "      <td>#Gadhvi (He thought he was Gandhi)</td>\n",
       "      <td>(2019)</td>\n",
       "      <td>109 min</td>\n",
       "      <td>Drama</td>\n",
       "      <td>7.0</td>\n",
       "      <td>8</td>\n",
       "      <td>Gaurav Bakshi</td>\n",
       "      <td>Rasika Dugal</td>\n",
       "      <td>Vivek Ghamande</td>\n",
       "      <td>Arvind Jangid</td>\n",
       "    </tr>\n",
       "    <tr>\n",
       "      <th>3</th>\n",
       "      <td>#Yaaram</td>\n",
       "      <td>(2019)</td>\n",
       "      <td>110 min</td>\n",
       "      <td>Comedy, Romance</td>\n",
       "      <td>4.4</td>\n",
       "      <td>35</td>\n",
       "      <td>Ovais Khan</td>\n",
       "      <td>Prateik</td>\n",
       "      <td>Ishita Raj</td>\n",
       "      <td>Siddhant Kapoor</td>\n",
       "    </tr>\n",
       "    <tr>\n",
       "      <th>5</th>\n",
       "      <td>...Aur Pyaar Ho Gaya</td>\n",
       "      <td>(1997)</td>\n",
       "      <td>147 min</td>\n",
       "      <td>Comedy, Drama, Musical</td>\n",
       "      <td>4.7</td>\n",
       "      <td>827</td>\n",
       "      <td>Rahul Rawail</td>\n",
       "      <td>Bobby Deol</td>\n",
       "      <td>Aishwarya Rai Bachchan</td>\n",
       "      <td>Shammi Kapoor</td>\n",
       "    </tr>\n",
       "    <tr>\n",
       "      <th>6</th>\n",
       "      <td>...Yahaan</td>\n",
       "      <td>(2005)</td>\n",
       "      <td>142 min</td>\n",
       "      <td>Drama, Romance, War</td>\n",
       "      <td>7.4</td>\n",
       "      <td>1,086</td>\n",
       "      <td>Shoojit Sircar</td>\n",
       "      <td>Jimmy Sheirgill</td>\n",
       "      <td>Minissha Lamba</td>\n",
       "      <td>Yashpal Sharma</td>\n",
       "    </tr>\n",
       "    <tr>\n",
       "      <th>8</th>\n",
       "      <td>?: A Question Mark</td>\n",
       "      <td>(2012)</td>\n",
       "      <td>82 min</td>\n",
       "      <td>Horror, Mystery, Thriller</td>\n",
       "      <td>5.6</td>\n",
       "      <td>326</td>\n",
       "      <td>Allyson Patel</td>\n",
       "      <td>Yash Dave</td>\n",
       "      <td>Muntazir Ahmad</td>\n",
       "      <td>Kiran Bhatia</td>\n",
       "    </tr>\n",
       "  </tbody>\n",
       "</table>\n",
       "</div>"
      ],
      "text/plain": [
       "                                 Name    Year Duration  \\\n",
       "1  #Gadhvi (He thought he was Gandhi)  (2019)  109 min   \n",
       "3                             #Yaaram  (2019)  110 min   \n",
       "5                ...Aur Pyaar Ho Gaya  (1997)  147 min   \n",
       "6                           ...Yahaan  (2005)  142 min   \n",
       "8                  ?: A Question Mark  (2012)   82 min   \n",
       "\n",
       "                       Genre  Rating  Votes        Director          Actor 1  \\\n",
       "1                      Drama     7.0      8   Gaurav Bakshi     Rasika Dugal   \n",
       "3            Comedy, Romance     4.4     35      Ovais Khan          Prateik   \n",
       "5     Comedy, Drama, Musical     4.7    827    Rahul Rawail       Bobby Deol   \n",
       "6        Drama, Romance, War     7.4  1,086  Shoojit Sircar  Jimmy Sheirgill   \n",
       "8  Horror, Mystery, Thriller     5.6    326   Allyson Patel        Yash Dave   \n",
       "\n",
       "                  Actor 2          Actor 3  \n",
       "1          Vivek Ghamande    Arvind Jangid  \n",
       "3              Ishita Raj  Siddhant Kapoor  \n",
       "5  Aishwarya Rai Bachchan    Shammi Kapoor  \n",
       "6          Minissha Lamba   Yashpal Sharma  \n",
       "8          Muntazir Ahmad     Kiran Bhatia  "
      ]
     },
     "execution_count": 42,
     "metadata": {},
     "output_type": "execute_result"
    }
   ],
   "source": [
    "df.dropna(inplace = True)\n",
    "df.head()"
   ]
  },
  {
   "cell_type": "code",
   "execution_count": 43,
   "id": "b92129ac",
   "metadata": {
    "execution": {
     "iopub.execute_input": "2023-08-24T06:50:42.396410Z",
     "iopub.status.busy": "2023-08-24T06:50:42.395647Z",
     "iopub.status.idle": "2023-08-24T06:50:42.421381Z",
     "shell.execute_reply": "2023-08-24T06:50:42.420441Z"
    },
    "papermill": {
     "duration": 0.049434,
     "end_time": "2023-08-24T06:50:42.424078",
     "exception": false,
     "start_time": "2023-08-24T06:50:42.374644",
     "status": "completed"
    },
    "tags": []
   },
   "outputs": [
    {
     "data": {
      "text/plain": [
       "Name        0\n",
       "Year        0\n",
       "Duration    0\n",
       "Genre       0\n",
       "Rating      0\n",
       "Votes       0\n",
       "Director    0\n",
       "Actor 1     0\n",
       "Actor 2     0\n",
       "Actor 3     0\n",
       "dtype: int64"
      ]
     },
     "execution_count": 43,
     "metadata": {},
     "output_type": "execute_result"
    }
   ],
   "source": [
    "df.isnull().sum()"
   ]
  },
  {
   "cell_type": "code",
   "execution_count": 44,
   "id": "12a1a92d",
   "metadata": {
    "execution": {
     "iopub.execute_input": "2023-08-24T06:50:42.466890Z",
     "iopub.status.busy": "2023-08-24T06:50:42.466169Z",
     "iopub.status.idle": "2023-08-24T06:50:42.472944Z",
     "shell.execute_reply": "2023-08-24T06:50:42.471803Z"
    },
    "papermill": {
     "duration": 0.031592,
     "end_time": "2023-08-24T06:50:42.475435",
     "exception": false,
     "start_time": "2023-08-24T06:50:42.443843",
     "status": "completed"
    },
    "tags": []
   },
   "outputs": [
    {
     "data": {
      "text/plain": [
       "(5659, 10)"
      ]
     },
     "execution_count": 44,
     "metadata": {},
     "output_type": "execute_result"
    }
   ],
   "source": [
    "df.shape"
   ]
  },
  {
   "cell_type": "code",
   "execution_count": 45,
   "id": "cee33b9a",
   "metadata": {
    "execution": {
     "iopub.execute_input": "2023-08-24T06:50:42.518043Z",
     "iopub.status.busy": "2023-08-24T06:50:42.516619Z",
     "iopub.status.idle": "2023-08-24T06:50:42.550535Z",
     "shell.execute_reply": "2023-08-24T06:50:42.549291Z"
    },
    "papermill": {
     "duration": 0.058432,
     "end_time": "2023-08-24T06:50:42.553586",
     "exception": false,
     "start_time": "2023-08-24T06:50:42.495154",
     "status": "completed"
    },
    "tags": []
   },
   "outputs": [],
   "source": [
    "df['Year'] = df['Year'].str.extract('(\\d+)')  # Extract numeric part of the string\n",
    "df['Year'] = pd.to_numeric(df['Year'], errors='coerce')  # Convert to numeric\n"
   ]
  },
  {
   "cell_type": "code",
   "execution_count": 46,
   "id": "ca2d9ce8",
   "metadata": {
    "execution": {
     "iopub.execute_input": "2023-08-24T06:50:42.594923Z",
     "iopub.status.busy": "2023-08-24T06:50:42.594529Z",
     "iopub.status.idle": "2023-08-24T06:50:42.622307Z",
     "shell.execute_reply": "2023-08-24T06:50:42.621017Z"
    },
    "papermill": {
     "duration": 0.052007,
     "end_time": "2023-08-24T06:50:42.625377",
     "exception": false,
     "start_time": "2023-08-24T06:50:42.573370",
     "status": "completed"
    },
    "tags": []
   },
   "outputs": [],
   "source": [
    "df['Duration'] = df['Duration'].str.extract('(\\d+)')\n",
    "df['Duration'] = pd.to_numeric(df['Duration'], errors='coerce')"
   ]
  },
  {
   "cell_type": "code",
   "execution_count": 47,
   "id": "30b7ef92",
   "metadata": {
    "execution": {
     "iopub.execute_input": "2023-08-24T06:50:42.667188Z",
     "iopub.status.busy": "2023-08-24T06:50:42.666728Z",
     "iopub.status.idle": "2023-08-24T06:50:42.675366Z",
     "shell.execute_reply": "2023-08-24T06:50:42.674237Z"
    },
    "papermill": {
     "duration": 0.032412,
     "end_time": "2023-08-24T06:50:42.677943",
     "exception": false,
     "start_time": "2023-08-24T06:50:42.645531",
     "status": "completed"
    },
    "tags": []
   },
   "outputs": [
    {
     "data": {
      "text/plain": [
       "1    2019\n",
       "3    2019\n",
       "5    1997\n",
       "6    2005\n",
       "8    2012\n",
       "Name: Year, dtype: int64"
      ]
     },
     "execution_count": 47,
     "metadata": {},
     "output_type": "execute_result"
    }
   ],
   "source": [
    "df[\"Year\"].head()"
   ]
  },
  {
   "cell_type": "code",
   "execution_count": 48,
   "id": "93b4e746",
   "metadata": {
    "execution": {
     "iopub.execute_input": "2023-08-24T06:50:42.719486Z",
     "iopub.status.busy": "2023-08-24T06:50:42.718680Z",
     "iopub.status.idle": "2023-08-24T06:50:42.726756Z",
     "shell.execute_reply": "2023-08-24T06:50:42.725863Z"
    },
    "papermill": {
     "duration": 0.031304,
     "end_time": "2023-08-24T06:50:42.728895",
     "exception": false,
     "start_time": "2023-08-24T06:50:42.697591",
     "status": "completed"
    },
    "tags": []
   },
   "outputs": [
    {
     "data": {
      "text/plain": [
       "1                        Drama\n",
       "3              Comedy, Romance\n",
       "5       Comedy, Drama, Musical\n",
       "6          Drama, Romance, War\n",
       "8    Horror, Mystery, Thriller\n",
       "Name: Genre, dtype: object"
      ]
     },
     "execution_count": 48,
     "metadata": {},
     "output_type": "execute_result"
    }
   ],
   "source": [
    "genre = df['Genre']\n",
    "genre.head(5)"
   ]
  },
  {
   "cell_type": "code",
   "execution_count": 49,
   "id": "81436ead",
   "metadata": {
    "execution": {
     "iopub.execute_input": "2023-08-24T06:50:42.772233Z",
     "iopub.status.busy": "2023-08-24T06:50:42.771771Z",
     "iopub.status.idle": "2023-08-24T06:50:42.797649Z",
     "shell.execute_reply": "2023-08-24T06:50:42.796442Z"
    },
    "papermill": {
     "duration": 0.050592,
     "end_time": "2023-08-24T06:50:42.800041",
     "exception": false,
     "start_time": "2023-08-24T06:50:42.749449",
     "status": "completed"
    },
    "tags": []
   },
   "outputs": [
    {
     "data": {
      "text/html": [
       "<div>\n",
       "<style scoped>\n",
       "    .dataframe tbody tr th:only-of-type {\n",
       "        vertical-align: middle;\n",
       "    }\n",
       "\n",
       "    .dataframe tbody tr th {\n",
       "        vertical-align: top;\n",
       "    }\n",
       "\n",
       "    .dataframe thead th {\n",
       "        text-align: right;\n",
       "    }\n",
       "</style>\n",
       "<table border=\"1\" class=\"dataframe\">\n",
       "  <thead>\n",
       "    <tr style=\"text-align: right;\">\n",
       "      <th></th>\n",
       "      <th>0</th>\n",
       "      <th>1</th>\n",
       "      <th>2</th>\n",
       "    </tr>\n",
       "  </thead>\n",
       "  <tbody>\n",
       "    <tr>\n",
       "      <th>1</th>\n",
       "      <td>Drama</td>\n",
       "      <td>None</td>\n",
       "      <td>None</td>\n",
       "    </tr>\n",
       "    <tr>\n",
       "      <th>3</th>\n",
       "      <td>Comedy</td>\n",
       "      <td>Romance</td>\n",
       "      <td>None</td>\n",
       "    </tr>\n",
       "    <tr>\n",
       "      <th>5</th>\n",
       "      <td>Comedy</td>\n",
       "      <td>Drama</td>\n",
       "      <td>Musical</td>\n",
       "    </tr>\n",
       "    <tr>\n",
       "      <th>6</th>\n",
       "      <td>Drama</td>\n",
       "      <td>Romance</td>\n",
       "      <td>War</td>\n",
       "    </tr>\n",
       "    <tr>\n",
       "      <th>8</th>\n",
       "      <td>Horror</td>\n",
       "      <td>Mystery</td>\n",
       "      <td>Thriller</td>\n",
       "    </tr>\n",
       "  </tbody>\n",
       "</table>\n",
       "</div>"
      ],
      "text/plain": [
       "        0        1         2\n",
       "1   Drama     None      None\n",
       "3  Comedy  Romance      None\n",
       "5  Comedy    Drama   Musical\n",
       "6   Drama  Romance       War\n",
       "8  Horror  Mystery  Thriller"
      ]
     },
     "execution_count": 49,
     "metadata": {},
     "output_type": "execute_result"
    }
   ],
   "source": [
    "genres = df['Genre'].str.split(', ', expand=True)\n",
    "genres.head(5)"
   ]
  },
  {
   "cell_type": "code",
   "execution_count": 50,
   "id": "021d826a",
   "metadata": {
    "execution": {
     "iopub.execute_input": "2023-08-24T06:50:42.842461Z",
     "iopub.status.busy": "2023-08-24T06:50:42.842063Z",
     "iopub.status.idle": "2023-08-24T06:50:42.858191Z",
     "shell.execute_reply": "2023-08-24T06:50:42.856945Z"
    },
    "papermill": {
     "duration": 0.040378,
     "end_time": "2023-08-24T06:50:42.860912",
     "exception": false,
     "start_time": "2023-08-24T06:50:42.820534",
     "status": "completed"
    },
    "tags": []
   },
   "outputs": [
    {
     "name": "stdout",
     "output_type": "stream",
     "text": [
      "Action: 1686\n",
      "Adventure: 277\n",
      "Animation: 40\n",
      "Biography: 115\n",
      "Comedy: 1344\n",
      "Crime: 875\n",
      "Documentary: 48\n",
      "Drama: 3796\n",
      "Family: 416\n",
      "Fantasy: 146\n",
      "History: 99\n",
      "Horror: 202\n",
      "Music: 53\n",
      "Musical: 412\n",
      "Mystery: 304\n",
      "News: 1\n",
      "Romance: 1380\n",
      "Sci-Fi: 32\n",
      "Sport: 40\n",
      "Thriller: 679\n",
      "War: 33\n",
      "Western: 1\n"
     ]
    }
   ],
   "source": [
    "genre_counts = {}\n",
    "for genre in genres.values.flatten():\n",
    "    if genre is not None:\n",
    "        if genre in genre_counts:\n",
    "            genre_counts[genre] += 1\n",
    "        else:\n",
    "            genre_counts[genre] = 1\n",
    "\n",
    "genereCounts = {genre: count for genre, count in sorted(genre_counts.items())}\n",
    "for genre, count in genereCounts.items():\n",
    "    print(f\"{genre}: {count}\")"
   ]
  },
  {
   "cell_type": "code",
   "execution_count": 51,
   "id": "2f786696",
   "metadata": {
    "execution": {
     "iopub.execute_input": "2023-08-24T06:50:42.903245Z",
     "iopub.status.busy": "2023-08-24T06:50:42.902764Z",
     "iopub.status.idle": "2023-08-24T06:50:42.915127Z",
     "shell.execute_reply": "2023-08-24T06:50:42.913984Z"
    },
    "papermill": {
     "duration": 0.036279,
     "end_time": "2023-08-24T06:50:42.917463",
     "exception": false,
     "start_time": "2023-08-24T06:50:42.881184",
     "status": "completed"
    },
    "tags": []
   },
   "outputs": [
    {
     "data": {
      "text/html": [
       "<div>\n",
       "<style scoped>\n",
       "    .dataframe tbody tr th:only-of-type {\n",
       "        vertical-align: middle;\n",
       "    }\n",
       "\n",
       "    .dataframe tbody tr th {\n",
       "        vertical-align: top;\n",
       "    }\n",
       "\n",
       "    .dataframe thead th {\n",
       "        text-align: right;\n",
       "    }\n",
       "</style>\n",
       "<table border=\"1\" class=\"dataframe\">\n",
       "  <thead>\n",
       "    <tr style=\"text-align: right;\">\n",
       "      <th></th>\n",
       "      <th>Genre</th>\n",
       "      <th>Count</th>\n",
       "    </tr>\n",
       "  </thead>\n",
       "  <tbody>\n",
       "    <tr>\n",
       "      <th>0</th>\n",
       "      <td>Drama</td>\n",
       "      <td>844</td>\n",
       "    </tr>\n",
       "    <tr>\n",
       "      <th>1</th>\n",
       "      <td>Drama, Romance</td>\n",
       "      <td>332</td>\n",
       "    </tr>\n",
       "    <tr>\n",
       "      <th>2</th>\n",
       "      <td>Action, Crime, Drama</td>\n",
       "      <td>329</td>\n",
       "    </tr>\n",
       "    <tr>\n",
       "      <th>3</th>\n",
       "      <td>Action, Drama</td>\n",
       "      <td>206</td>\n",
       "    </tr>\n",
       "    <tr>\n",
       "      <th>4</th>\n",
       "      <td>Comedy, Drama</td>\n",
       "      <td>205</td>\n",
       "    </tr>\n",
       "  </tbody>\n",
       "</table>\n",
       "</div>"
      ],
      "text/plain": [
       "                  Genre  Count\n",
       "0                 Drama    844\n",
       "1        Drama, Romance    332\n",
       "2  Action, Crime, Drama    329\n",
       "3         Action, Drama    206\n",
       "4         Comedy, Drama    205"
      ]
     },
     "execution_count": 51,
     "metadata": {},
     "output_type": "execute_result"
    }
   ],
   "source": [
    "genresPie = df['Genre'].value_counts()\n",
    "genrePie = pd.DataFrame(list(genresPie.items()))\n",
    "genrePie = genrePie.rename(columns={0: 'Genre', 1: 'Count'})\n",
    "genrePie.head()"
   ]
  },
  {
   "cell_type": "code",
   "execution_count": 52,
   "id": "0f2a569b",
   "metadata": {
    "execution": {
     "iopub.execute_input": "2023-08-24T06:50:43.021596Z",
     "iopub.status.busy": "2023-08-24T06:50:43.021157Z",
     "iopub.status.idle": "2023-08-24T06:50:43.036501Z",
     "shell.execute_reply": "2023-08-24T06:50:43.035399Z"
    },
    "papermill": {
     "duration": 0.040113,
     "end_time": "2023-08-24T06:50:43.038891",
     "exception": false,
     "start_time": "2023-08-24T06:50:42.998778",
     "status": "completed"
    },
    "tags": []
   },
   "outputs": [
    {
     "data": {
      "text/plain": [
       "1       8\n",
       "3      35\n",
       "5     827\n",
       "6    1086\n",
       "8     326\n",
       "Name: Votes, dtype: int32"
      ]
     },
     "execution_count": 52,
     "metadata": {},
     "output_type": "execute_result"
    }
   ],
   "source": [
    "df['Votes'] = df['Votes'].str.replace(',', '').astype(int)\n",
    "df[\"Votes\"].head()"
   ]
  },
  {
   "cell_type": "code",
   "execution_count": 53,
   "id": "1841f2b2",
   "metadata": {
    "execution": {
     "iopub.execute_input": "2023-08-24T06:50:43.083728Z",
     "iopub.status.busy": "2023-08-24T06:50:43.083332Z",
     "iopub.status.idle": "2023-08-24T06:50:43.093342Z",
     "shell.execute_reply": "2023-08-24T06:50:43.092332Z"
    },
    "papermill": {
     "duration": 0.035682,
     "end_time": "2023-08-24T06:50:43.095672",
     "exception": false,
     "start_time": "2023-08-24T06:50:43.059990",
     "status": "completed"
    },
    "tags": []
   },
   "outputs": [
    {
     "data": {
      "text/plain": [
       "2431"
      ]
     },
     "execution_count": 53,
     "metadata": {},
     "output_type": "execute_result"
    }
   ],
   "source": [
    "df[\"Director\"].nunique()"
   ]
  },
  {
   "cell_type": "code",
   "execution_count": 54,
   "id": "ee3c3916",
   "metadata": {
    "execution": {
     "iopub.execute_input": "2023-08-24T06:50:43.140933Z",
     "iopub.status.busy": "2023-08-24T06:50:43.140292Z",
     "iopub.status.idle": "2023-08-24T06:50:43.151254Z",
     "shell.execute_reply": "2023-08-24T06:50:43.150092Z"
    },
    "papermill": {
     "duration": 0.036388,
     "end_time": "2023-08-24T06:50:43.153873",
     "exception": false,
     "start_time": "2023-08-24T06:50:43.117485",
     "status": "completed"
    },
    "tags": []
   },
   "outputs": [
    {
     "data": {
      "text/plain": [
       "David Dhawan            41\n",
       "Mahesh Bhatt            39\n",
       "Ram Gopal Varma         33\n",
       "Hrishikesh Mukherjee    33\n",
       "Shakti Samanta          33\n",
       "Name: Director, dtype: int64"
      ]
     },
     "execution_count": 54,
     "metadata": {},
     "output_type": "execute_result"
    }
   ],
   "source": [
    "directors = df[\"Director\"].value_counts()\n",
    "directors.head()"
   ]
  },
  {
   "cell_type": "code",
   "execution_count": 55,
   "id": "95089373",
   "metadata": {
    "execution": {
     "iopub.execute_input": "2023-08-24T06:50:43.199435Z",
     "iopub.status.busy": "2023-08-24T06:50:43.198369Z",
     "iopub.status.idle": "2023-08-24T06:50:43.217473Z",
     "shell.execute_reply": "2023-08-24T06:50:43.216295Z"
    },
    "papermill": {
     "duration": 0.044588,
     "end_time": "2023-08-24T06:50:43.220159",
     "exception": false,
     "start_time": "2023-08-24T06:50:43.175571",
     "status": "completed"
    },
    "tags": []
   },
   "outputs": [
    {
     "data": {
      "text/plain": [
       "Mithun Chakraborty    160\n",
       "Amitabh Bachchan      148\n",
       "Dharmendra            146\n",
       "Ashok Kumar           124\n",
       "Akshay Kumar          120\n",
       "dtype: int64"
      ]
     },
     "execution_count": 55,
     "metadata": {},
     "output_type": "execute_result"
    }
   ],
   "source": [
    "actors = pd.concat([df['Actor 1'], df['Actor 2'], df['Actor 3']]).dropna().value_counts()\n",
    "actors.head()"
   ]
  },
  {
   "cell_type": "code",
   "execution_count": 56,
   "id": "5a153ad1",
   "metadata": {
    "execution": {
     "iopub.execute_input": "2023-08-24T06:50:43.307719Z",
     "iopub.status.busy": "2023-08-24T06:50:43.307340Z",
     "iopub.status.idle": "2023-08-24T06:50:45.756431Z",
     "shell.execute_reply": "2023-08-24T06:50:45.755115Z"
    },
    "papermill": {
     "duration": 2.475197,
     "end_time": "2023-08-24T06:50:45.759943",
     "exception": false,
     "start_time": "2023-08-24T06:50:43.284746",
     "status": "completed"
    },
    "tags": []
   },
   "outputs": [],
   "source": [
    "#DATA VISUALIZATION\n",
    "\n",
    "import seaborn as sns\n",
    "import plotly.express as px\n",
    "import matplotlib.pyplot as plt"
   ]
  },
  {
   "cell_type": "code",
   "execution_count": 57,
   "id": "3fc53860",
   "metadata": {},
   "outputs": [
    {
     "data": {
      "image/png": "[encoded data removed]",
      "text/plain": [
       "<Figure size 1000x400 with 1 Axes>"
      ]
     },
     "metadata": {},
     "output_type": "display_data"
    }
   ],
   "source": [
    "year_count = df.groupby('Year').agg({'Name':'count'}).rename(columns={'Name':'count'}).sort_values(by='count', ascending=False).reset_index()\n",
    "\n",
    "plt.figure(figsize=(10, 4))\n",
    "ax = sns.lineplot(data=year_count, x='Year', y='count')\n",
    "plt.title('Movies releases per year')\n",
    "plt.xticks(rotation=90)\n",
    "plt.show()"
   ]
  },
  {
   "cell_type": "code",
   "execution_count": 58,
   "id": "67703682",
   "metadata": {
    "execution": {
     "iopub.execute_input": "2023-08-24T06:50:46.618775Z",
     "iopub.status.busy": "2023-08-24T06:50:46.617610Z",
     "iopub.status.idle": "2023-08-24T06:50:47.022011Z",
     "shell.execute_reply": "2023-08-24T06:50:47.020692Z"
    },
    "papermill": {
     "duration": 0.431865,
     "end_time": "2023-08-24T06:50:47.024707",
     "exception": false,
     "start_time": "2023-08-24T06:50:46.592842",
     "status": "completed"
    },
    "tags": []
   },
   "outputs": [
    {
     "data": {
      "image/png": "[encoded data removed]",
      "text/plain": [
       "<Figure size 640x480 with 1 Axes>"
      ]
     },
     "metadata": {},
     "output_type": "display_data"
    }
   ],
   "source": [
    "ax = sns.lineplot(data=df.groupby('Year')['Duration'].mean().reset_index(), x='Year', y='Duration')\n",
    "tick_positions = range(min(df['Year']), max(df['Year']) + 1, 5)\n",
    "ax.set_title(\"Average Movie Duration Trends Over the Years\")\n",
    "ax.set_xticks(tick_positions)\n",
    "ax.set_xticklabels(tick_positions, rotation = 90)\n",
    "ax.set_xlabel(\"Years\")\n",
    "ax.set_ylabel('Average Duration(in minutes)')\n",
    "plt.show()"
   ]
  },
  {
   "cell_type": "code",
   "execution_count": 59,
   "id": "a18011f3",
   "metadata": {},
   "outputs": [
    {
     "data": {
      "image/png": "[encoded data removed]",
      "text/plain": [
       "<Figure size 640x480 with 1 Axes>"
      ]
     },
     "metadata": {},
     "output_type": "display_data"
    }
   ],
   "source": [
    "# plot top ten high average rated genre \n",
    "genre_rate = df.groupby('Genre').agg({'Rating':'mean'}).sort_values(by='Rating', ascending=False)\\\n",
    "                                .reset_index().head(10)\n",
    "\n",
    "ax = sns.barplot(data=genre_rate, x='Rating', y='Genre')\n",
    "ax.bar_label(ax.containers[0])\n",
    "plt.title('Top ten high average rated genre')\n",
    "plt.show()\n"
   ]
  },
  {
   "cell_type": "code",
   "execution_count": 60,
   "id": "4f686812",
   "metadata": {},
   "outputs": [],
   "source": [
    "def TopTenPlot(column):\n",
    "    global df\n",
    "    df[column].value_counts().sort_values(ascending=False)[:10].plot(kind=\"bar\", figsize=(20,6), edgecolor=\"k\")\n",
    "    plt.xticks(rotation=0)\n",
    "    plt.title(\"Top Ten {}\".format(column))\n",
    "    plt.xlabel(column)\n",
    "    plt.ylabel(\"Count\")\n",
    "    plt.show()"
   ]
  },
  {
   "cell_type": "code",
   "execution_count": 61,
   "id": "7b5a0a12",
   "metadata": {},
   "outputs": [
    {
     "data": {
      "image/png": "[encoded data removed]",
      "text/plain": [
       "<Figure size 2000x600 with 1 Axes>"
      ]
     },
     "metadata": {},
     "output_type": "display_data"
    }
   ],
   "source": [
    "TopTenPlot(\"Actor 1\")"
   ]
  },
  {
   "cell_type": "code",
   "execution_count": 62,
   "id": "e92acd3f",
   "metadata": {
    "scrolled": true
   },
   "outputs": [
    {
     "data": {
      "image/png": "[encoded data removed]",
      "text/plain": [
       "<Figure size 2000x600 with 1 Axes>"
      ]
     },
     "metadata": {},
     "output_type": "display_data"
    }
   ],
   "source": [
    "TopTenPlot(\"Director\")"
   ]
  },
  {
   "cell_type": "markdown",
   "id": "1a605379",
   "metadata": {
    "papermill": {
     "duration": 0.034174,
     "end_time": "2023-08-24T06:50:54.440694",
     "exception": false,
     "start_time": "2023-08-24T06:50:54.406520",
     "status": "completed"
    },
    "tags": []
   },
   "source": [
    "# Modelling "
   ]
  },
  {
   "cell_type": "code",
   "execution_count": 64,
   "id": "f3025931",
   "metadata": {
    "execution": {
     "iopub.execute_input": "2023-08-24T06:50:54.512797Z",
     "iopub.status.busy": "2023-08-24T06:50:54.511684Z",
     "iopub.status.idle": "2023-08-24T06:50:54.805804Z",
     "shell.execute_reply": "2023-08-24T06:50:54.804546Z"
    },
    "papermill": {
     "duration": 0.333506,
     "end_time": "2023-08-24T06:50:54.808585",
     "exception": false,
     "start_time": "2023-08-24T06:50:54.475079",
     "status": "completed"
    },
    "tags": []
   },
   "outputs": [],
   "source": [
    "from sklearn.model_selection import train_test_split"
   ]
  },
  {
   "cell_type": "code",
   "execution_count": 65,
   "id": "8ca628e0",
   "metadata": {
    "execution": {
     "iopub.execute_input": "2023-08-24T06:50:54.879082Z",
     "iopub.status.busy": "2023-08-24T06:50:54.878606Z",
     "iopub.status.idle": "2023-08-24T06:50:54.887460Z",
     "shell.execute_reply": "2023-08-24T06:50:54.886124Z"
    },
    "papermill": {
     "duration": 0.047373,
     "end_time": "2023-08-24T06:50:54.889835",
     "exception": false,
     "start_time": "2023-08-24T06:50:54.842462",
     "status": "completed"
    },
    "tags": []
   },
   "outputs": [],
   "source": [
    "Input = df.drop(['Name', 'Genre', 'Rating', 'Director', 'Actor 1', 'Actor 2', 'Actor 3'], axis=1)\n",
    "Output = df['Rating']"
   ]
  },
  {
   "cell_type": "code",
   "execution_count": 66,
   "id": "1693097e",
   "metadata": {
    "execution": {
     "iopub.execute_input": "2023-08-24T06:50:54.961366Z",
     "iopub.status.busy": "2023-08-24T06:50:54.960100Z",
     "iopub.status.idle": "2023-08-24T06:50:54.973035Z",
     "shell.execute_reply": "2023-08-24T06:50:54.971847Z"
    },
    "papermill": {
     "duration": 0.051697,
     "end_time": "2023-08-24T06:50:54.975877",
     "exception": false,
     "start_time": "2023-08-24T06:50:54.924180",
     "status": "completed"
    },
    "tags": []
   },
   "outputs": [
    {
     "data": {
      "text/html": [
       "<div>\n",
       "<style scoped>\n",
       "    .dataframe tbody tr th:only-of-type {\n",
       "        vertical-align: middle;\n",
       "    }\n",
       "\n",
       "    .dataframe tbody tr th {\n",
       "        vertical-align: top;\n",
       "    }\n",
       "\n",
       "    .dataframe thead th {\n",
       "        text-align: right;\n",
       "    }\n",
       "</style>\n",
       "<table border=\"1\" class=\"dataframe\">\n",
       "  <thead>\n",
       "    <tr style=\"text-align: right;\">\n",
       "      <th></th>\n",
       "      <th>Year</th>\n",
       "      <th>Duration</th>\n",
       "      <th>Votes</th>\n",
       "    </tr>\n",
       "  </thead>\n",
       "  <tbody>\n",
       "    <tr>\n",
       "      <th>1</th>\n",
       "      <td>2019</td>\n",
       "      <td>109</td>\n",
       "      <td>8</td>\n",
       "    </tr>\n",
       "    <tr>\n",
       "      <th>3</th>\n",
       "      <td>2019</td>\n",
       "      <td>110</td>\n",
       "      <td>35</td>\n",
       "    </tr>\n",
       "    <tr>\n",
       "      <th>5</th>\n",
       "      <td>1997</td>\n",
       "      <td>147</td>\n",
       "      <td>827</td>\n",
       "    </tr>\n",
       "    <tr>\n",
       "      <th>6</th>\n",
       "      <td>2005</td>\n",
       "      <td>142</td>\n",
       "      <td>1086</td>\n",
       "    </tr>\n",
       "    <tr>\n",
       "      <th>8</th>\n",
       "      <td>2012</td>\n",
       "      <td>82</td>\n",
       "      <td>326</td>\n",
       "    </tr>\n",
       "  </tbody>\n",
       "</table>\n",
       "</div>"
      ],
      "text/plain": [
       "   Year  Duration  Votes\n",
       "1  2019       109      8\n",
       "3  2019       110     35\n",
       "5  1997       147    827\n",
       "6  2005       142   1086\n",
       "8  2012        82    326"
      ]
     },
     "execution_count": 66,
     "metadata": {},
     "output_type": "execute_result"
    }
   ],
   "source": [
    "Input.head()"
   ]
  },
  {
   "cell_type": "code",
   "execution_count": 67,
   "id": "46f16284",
   "metadata": {
    "execution": {
     "iopub.execute_input": "2023-08-24T06:50:55.049997Z",
     "iopub.status.busy": "2023-08-24T06:50:55.049541Z",
     "iopub.status.idle": "2023-08-24T06:50:55.058021Z",
     "shell.execute_reply": "2023-08-24T06:50:55.057142Z"
    },
    "papermill": {
     "duration": 0.047098,
     "end_time": "2023-08-24T06:50:55.060366",
     "exception": false,
     "start_time": "2023-08-24T06:50:55.013268",
     "status": "completed"
    },
    "tags": []
   },
   "outputs": [
    {
     "data": {
      "text/plain": [
       "1    7.0\n",
       "3    4.4\n",
       "5    4.7\n",
       "6    7.4\n",
       "8    5.6\n",
       "Name: Rating, dtype: float64"
      ]
     },
     "execution_count": 67,
     "metadata": {},
     "output_type": "execute_result"
    }
   ],
   "source": [
    "Output.head()"
   ]
  },
  {
   "cell_type": "code",
   "execution_count": 68,
   "id": "a1902733",
   "metadata": {
    "execution": {
     "iopub.execute_input": "2023-08-24T06:50:55.132499Z",
     "iopub.status.busy": "2023-08-24T06:50:55.131749Z",
     "iopub.status.idle": "2023-08-24T06:50:55.139181Z",
     "shell.execute_reply": "2023-08-24T06:50:55.138146Z"
    },
    "papermill": {
     "duration": 0.046404,
     "end_time": "2023-08-24T06:50:55.141960",
     "exception": false,
     "start_time": "2023-08-24T06:50:55.095556",
     "status": "completed"
    },
    "tags": []
   },
   "outputs": [],
   "source": [
    "x_train, x_test, y_train, y_test = train_test_split(Input, Output, test_size = 0.2, random_state = 42)"
   ]
  },
  {
   "cell_type": "code",
   "execution_count": 69,
   "id": "bcaa2e06",
   "metadata": {
    "execution": {
     "iopub.execute_input": "2023-08-24T06:50:55.282263Z",
     "iopub.status.busy": "2023-08-24T06:50:55.281809Z",
     "iopub.status.idle": "2023-08-24T06:50:57.447038Z",
     "shell.execute_reply": "2023-08-24T06:50:57.445756Z"
    },
    "papermill": {
     "duration": 2.204569,
     "end_time": "2023-08-24T06:50:57.450275",
     "exception": false,
     "start_time": "2023-08-24T06:50:55.245706",
     "status": "completed"
    },
    "tags": []
   },
   "outputs": [],
   "source": [
    "from sklearn.linear_model import LinearRegression\n",
    "from sklearn.metrics import mean_squared_error, r2_score as score\n",
    "from sklearn.tree import DecisionTreeRegressor\n",
    "from sklearn.neighbors import KNeighborsRegressor\n",
    "from sklearn.svm import SVR"
   ]
  },
  {
   "cell_type": "code",
   "execution_count": 70,
   "id": "cabd0c0c",
   "metadata": {
    "execution": {
     "iopub.execute_input": "2023-08-24T06:50:57.526375Z",
     "iopub.status.busy": "2023-08-24T06:50:57.525552Z",
     "iopub.status.idle": "2023-08-24T06:50:57.532194Z",
     "shell.execute_reply": "2023-08-24T06:50:57.531308Z"
    },
    "papermill": {
     "duration": 0.045639,
     "end_time": "2023-08-24T06:50:57.534761",
     "exception": false,
     "start_time": "2023-08-24T06:50:57.489122",
     "status": "completed"
    },
    "tags": []
   },
   "outputs": [],
   "source": [
    "def evaluate_model(y_true, y_pred, model_name):\n",
    "    print(\"Model: \", model_name)\n",
    "    print(\"Accuracy = {:0.2f}%\".format(score(y_true, y_pred)*100))\n",
    "    print(\"Mean Squared Error = {:0.2f}\\n\".format(mean_squared_error(y_true, y_pred, squared=False)))\n",
    "    return round(score(y_true, y_pred)*100, 2)"
   ]
  },
  {
   "cell_type": "code",
   "execution_count": 71,
   "id": "a06d87a1",
   "metadata": {
    "execution": {
     "iopub.execute_input": "2023-08-24T06:50:57.606147Z",
     "iopub.status.busy": "2023-08-24T06:50:57.605699Z",
     "iopub.status.idle": "2023-08-24T06:51:02.224655Z",
     "shell.execute_reply": "2023-08-24T06:51:02.223185Z"
    },
    "papermill": {
     "duration": 4.657802,
     "end_time": "2023-08-24T06:51:02.227591",
     "exception": false,
     "start_time": "2023-08-24T06:50:57.569789",
     "status": "completed"
    },
    "tags": []
   },
   "outputs": [],
   "source": [
    "LR = LinearRegression()\n",
    "LR.fit(x_train, y_train)\n",
    "lr_preds = LR.predict(x_test)\n",
    "\n",
    "DT = DecisionTreeRegressor(random_state=1)\n",
    "DT.fit(x_train, y_train)\n",
    "dt_preds = DT.predict(x_test)\n",
    "\n",
    "KNN = KNeighborsRegressor(n_neighbors=5)\n",
    "KNN.fit(x_train, y_train)\n",
    "knn_preds = KNN.predict(x_test)"
   ]
  },
  {
   "cell_type": "code",
   "execution_count": 72,
   "id": "b0ec19c4",
   "metadata": {
    "execution": {
     "iopub.execute_input": "2023-08-24T06:51:02.306860Z",
     "iopub.status.busy": "2023-08-24T06:51:02.306387Z",
     "iopub.status.idle": "2023-08-24T06:51:02.330704Z",
     "shell.execute_reply": "2023-08-24T06:51:02.329086Z"
    },
    "papermill": {
     "duration": 0.067535,
     "end_time": "2023-08-24T06:51:02.333716",
     "exception": false,
     "start_time": "2023-08-24T06:51:02.266181",
     "status": "completed"
    },
    "tags": []
   },
   "outputs": [
    {
     "name": "stdout",
     "output_type": "stream",
     "text": [
      "Model:  LINEAR REGRESSION\n",
      "Accuracy = 7.80%\n",
      "Mean Squared Error = 1.31\n",
      "\n",
      "Model:  DECEISION TREE\n",
      "Accuracy = -45.59%\n",
      "Mean Squared Error = 1.64\n",
      "\n",
      "Model:  K NEAREST NEIGHBORS\n",
      "Accuracy = 11.56%\n",
      "Mean Squared Error = 1.28\n",
      "\n"
     ]
    }
   ],
   "source": [
    "LRScore = evaluate_model(y_test, lr_preds, \"LINEAR REGRESSION\")\n",
    "DTScore = evaluate_model(y_test, dt_preds, \"DECEISION TREE\")\n",
    "KNNScore = evaluate_model(y_test, knn_preds, \"K NEAREST NEIGHBORS\")"
   ]
  },
  {
   "cell_type": "code",
   "execution_count": 73,
   "id": "a80e8556",
   "metadata": {
    "execution": {
     "iopub.execute_input": "2023-08-24T06:51:02.407767Z",
     "iopub.status.busy": "2023-08-24T06:51:02.407298Z",
     "iopub.status.idle": "2023-08-24T06:51:02.423756Z",
     "shell.execute_reply": "2023-08-24T06:51:02.422274Z"
    },
    "papermill": {
     "duration": 0.057016,
     "end_time": "2023-08-24T06:51:02.426775",
     "exception": false,
     "start_time": "2023-08-24T06:51:02.369759",
     "status": "completed"
    },
    "tags": []
   },
   "outputs": [
    {
     "data": {
      "text/html": [
       "<div>\n",
       "<style scoped>\n",
       "    .dataframe tbody tr th:only-of-type {\n",
       "        vertical-align: middle;\n",
       "    }\n",
       "\n",
       "    .dataframe tbody tr th {\n",
       "        vertical-align: top;\n",
       "    }\n",
       "\n",
       "    .dataframe thead th {\n",
       "        text-align: right;\n",
       "    }\n",
       "</style>\n",
       "<table border=\"1\" class=\"dataframe\">\n",
       "  <thead>\n",
       "    <tr style=\"text-align: right;\">\n",
       "      <th></th>\n",
       "      <th>MODELS</th>\n",
       "      <th>SCORES</th>\n",
       "    </tr>\n",
       "  </thead>\n",
       "  <tbody>\n",
       "    <tr>\n",
       "      <th>2</th>\n",
       "      <td>K Nearest Neighbors</td>\n",
       "      <td>11.56</td>\n",
       "    </tr>\n",
       "    <tr>\n",
       "      <th>0</th>\n",
       "      <td>Linear Regression</td>\n",
       "      <td>7.80</td>\n",
       "    </tr>\n",
       "    <tr>\n",
       "      <th>1</th>\n",
       "      <td>Decision Tree</td>\n",
       "      <td>-45.59</td>\n",
       "    </tr>\n",
       "  </tbody>\n",
       "</table>\n",
       "</div>"
      ],
      "text/plain": [
       "                MODELS  SCORES\n",
       "2  K Nearest Neighbors   11.56\n",
       "0    Linear Regression    7.80\n",
       "1        Decision Tree  -45.59"
      ]
     },
     "execution_count": 73,
     "metadata": {},
     "output_type": "execute_result"
    }
   ],
   "source": [
    "models = pd.DataFrame(\n",
    "    {\n",
    "        \"MODELS\": [\"Linear Regression\", \"Decision Tree\", \"K Nearest Neighbors\"],\n",
    "        \"SCORES\": [LRScore, DTScore, KNNScore]\n",
    "    }\n",
    ")\n",
    "models.sort_values(by='SCORES', ascending=False)"
   ]
  }
 ],
 "metadata": {
  "kernelspec": {
   "display_name": "Python 3 (ipykernel)",
   "language": "python",
   "name": "python3"
  },
  "language_info": {
   "codemirror_mode": {
    "name": "ipython",
    "version": 3
   },
   "file_extension": ".py",
   "mimetype": "text/x-python",
   "name": "python",
   "nbconvert_exporter": "python",
   "pygments_lexer": "ipython3",
   "version": "3.9.12"
  },
  "papermill": {
   "default_parameters": {},
   "duration": 34.302046,
   "end_time": "2023-08-24T06:51:03.857737",
   "environment_variables": {},
   "exception": null,
   "input_path": "__notebook__.ipynb",
   "output_path": "__notebook__.ipynb",
   "parameters": {},
   "start_time": "2023-08-24T06:50:29.555691",
   "version": "2.4.0"
  }
 },
 "nbformat": 4,
 "nbformat_minor": 5
}
